{
 "cells": [
  {
   "cell_type": "markdown",
   "metadata": {},
   "source": [
    "# Exercise 01.1\n",
    "\n",
    "Create a function that receives two inputs a and b, and returns the product of the a decimal of pi and the b decimal of pi.\n",
    "\n",
    "```\n",
    "i.e, \n",
    "pi = 3.14159\n",
    "if a = 2 and b = 4\n",
    "result = 4 * 5\n",
    "result = 20\n",
    "```\n",
    "\n",
    "Caveats:\n",
    "- a and b are between 1 and 15\n",
    "- decimals positions 1 and 2 are 1 and 4, respectively. (remember that python start indexing in 0)"
   ]
  },
  {
   "cell_type": "markdown",
   "metadata": {},
   "source": [
    "# FUNCIÓN mult_dec_pi"
   ]
  },
  {
   "cell_type": "code",
   "execution_count": 71,
   "metadata": {},
   "outputs": [],
   "source": [
    "from math import pi\n",
    "def mult_dec_pi(a, b):\n",
    "    \n",
    "    if 1<=a<=15 and 1<=b<=15 :\n",
    "        pi_dec = str(pi)[1:]\n",
    "        dig_1  = int(pi_dec[a])\n",
    "        dig_2  = int(pi_dec[b])\n",
    "        result = dig_1 * dig_2\n",
    "    else:\n",
    "        result = 'Error'\n",
    "    \n",
    "    return result\n"
   ]
  },
  {
   "cell_type": "code",
   "execution_count": 72,
   "metadata": {},
   "outputs": [
    {
     "data": {
      "text/plain": [
       "20"
      ]
     },
     "execution_count": 72,
     "metadata": {},
     "output_type": "execute_result"
    }
   ],
   "source": [
    "mult_dec_pi(a=2, b=4)\n",
    "# 20.0"
   ]
  },
  {
   "cell_type": "code",
   "execution_count": 73,
   "metadata": {},
   "outputs": [
    {
     "data": {
      "text/plain": [
       "45"
      ]
     },
     "execution_count": 73,
     "metadata": {},
     "output_type": "execute_result"
    }
   ],
   "source": [
    "mult_dec_pi(a=5, b=4)\n",
    "# 45.0"
   ]
  },
  {
   "cell_type": "code",
   "execution_count": 74,
   "metadata": {},
   "outputs": [
    {
     "data": {
      "text/plain": [
       "9"
      ]
     },
     "execution_count": 74,
     "metadata": {},
     "output_type": "execute_result"
    }
   ],
   "source": [
    "mult_dec_pi(a=14, b=1)\n",
    "# 9.0"
   ]
  },
  {
   "cell_type": "code",
   "execution_count": 75,
   "metadata": {},
   "outputs": [
    {
     "data": {
      "text/plain": [
       "10"
      ]
     },
     "execution_count": 75,
     "metadata": {},
     "output_type": "execute_result"
    }
   ],
   "source": [
    "mult_dec_pi(a=6, b=8)\n",
    "# 10.0"
   ]
  },
  {
   "cell_type": "code",
   "execution_count": 76,
   "metadata": {},
   "outputs": [
    {
     "data": {
      "text/plain": [
       "'Error'"
      ]
     },
     "execution_count": 76,
     "metadata": {},
     "output_type": "execute_result"
    }
   ],
   "source": [
    "# Bonus\n",
    "mult_dec_pi(a=16, b=4)\n",
    "# 'Error'"
   ]
  },
  {
   "cell_type": "markdown",
   "metadata": {},
   "source": [
    "# Exercise 01.2\n",
    "\n",
    "Using the given dataset. Estimate a linear regression between Employed and GNP.\n",
    "\n",
    "$$Employed = b_0 + b_1 * GNP $$\n",
    "\n",
    "$$\\hat b = (X^TX)^{-1}X^TY$$\n",
    "$$Y = Employed$$\n",
    "$$X = [1  \\quad GNP]$$"
   ]
  },
  {
   "cell_type": "code",
   "execution_count": 131,
   "metadata": {},
   "outputs": [
    {
     "data": {
      "text/plain": [
       "Text(0,0.5,'Employed')"
      ]
     },
     "execution_count": 131,
     "metadata": {},
     "output_type": "execute_result"
    },
    {
     "data": {
      "image/png": "[encoded data removed]",
      "text/plain": [
       "<Figure size 432x288 with 1 Axes>"
      ]
     },
     "metadata": {},
     "output_type": "display_data"
    }
   ],
   "source": [
    "%matplotlib inline\n",
    "import numpy as np\n",
    "import matplotlib.pyplot as plt\n",
    "# Import data\n",
    "raw_data = \"\"\"\n",
    "Year,Employed,GNP\n",
    "1947,60.323,234.289\n",
    "1948,61.122,259.426\n",
    "1949,60.171,258.054\n",
    "1950,61.187,284.599\n",
    "1951,63.221,328.975\n",
    "1952,63.639,346.999\n",
    "1953,64.989,365.385\n",
    "1954,63.761,363.112\n",
    "1955,66.019,397.469\n",
    "1956,67.857,419.18\n",
    "1957,68.169,442.769\n",
    "1958,66.513,444.546\n",
    "1959,68.655,482.704\n",
    "1960,69.564,502.601\n",
    "1961,69.331,518.173\n",
    "1962,70.551,554.894\"\"\"\n",
    "\n",
    "data = []\n",
    "for line in raw_data.splitlines()[2:]:\n",
    "    words = line.split(',')\n",
    "    data.append(words)\n",
    "data = np.array(data, dtype=np.float)\n",
    "n_obs = data.shape[0]\n",
    "plt.plot(data[:, 2], data[:, 1], 'bo')\n",
    "plt.xlabel(\"GNP\")\n",
    "plt.ylabel(\"Employed\")"
   ]
  },
  {
   "cell_type": "markdown",
   "metadata": {},
   "source": [
    "# MATRIZ DE DISEÑO X y VECTOR Y"
   ]
  },
  {
   "cell_type": "code",
   "execution_count": 153,
   "metadata": {},
   "outputs": [],
   "source": [
    "#Matriz de diseño y Y\n",
    "Y           = data[:,1]\n",
    "n_samples   = Y.shape[0]\n",
    "X           = np.c_[np.ones(n_samples), data[:,2]]  "
   ]
  },
  {
   "cell_type": "markdown",
   "metadata": {},
   "source": [
    "# ESTIMACIÓN MATRICIAL DEL VECTOR BETA"
   ]
  },
  {
   "cell_type": "code",
   "execution_count": 155,
   "metadata": {},
   "outputs": [
    {
     "data": {
      "text/plain": [
       "array([5.18435898e+01, 3.47522943e-02])"
      ]
     },
     "execution_count": 155,
     "metadata": {},
     "output_type": "execute_result"
    }
   ],
   "source": [
    "#Estimación\n",
    "beta        = np.linalg.inv(np.transpose(X) @ X) @ np.transpose(X) @ Y\n",
    "beta "
   ]
  },
  {
   "cell_type": "markdown",
   "metadata": {},
   "source": [
    "# PREDICCIÓN"
   ]
  },
  {
   "cell_type": "code",
   "execution_count": 157,
   "metadata": {},
   "outputs": [
    {
     "data": {
      "text/plain": [
       "array([59.98567007, 60.8592385 , 60.81155835, 61.734058  , 63.27622581,\n",
       "       63.90260117, 64.54155685, 64.46256489, 65.65654946, 66.41105653,\n",
       "       67.2308284 , 67.29258322, 68.61866127, 69.31012767, 69.8512904 ,\n",
       "       71.1274294 ])"
      ]
     },
     "execution_count": 157,
     "metadata": {},
     "output_type": "execute_result"
    }
   ],
   "source": [
    "emplyed_fit = beta[0]+beta[1]*data[:, 2]\n",
    "emplyed_fit "
   ]
  },
  {
   "cell_type": "markdown",
   "metadata": {},
   "source": [
    "# PLOT DE LA REGRESIÓN"
   ]
  },
  {
   "cell_type": "code",
   "execution_count": 158,
   "metadata": {},
   "outputs": [
    {
     "data": {
      "text/plain": [
       "Text(0,0.5,'Employed')"
      ]
     },
     "execution_count": 158,
     "metadata": {},
     "output_type": "execute_result"
    },
    {
     "data": {
      "image/png": "[encoded data removed]",
      "text/plain": [
       "<Figure size 432x288 with 1 Axes>"
      ]
     },
     "metadata": {},
     "output_type": "display_data"
    }
   ],
   "source": [
    "#Plot de la regresión\n",
    "plt.plot(data[:, 2], data[:, 1], 'bo')\n",
    "plt.plot(data[:, 2], emplyed_fit, 'r', lw=3)\n",
    "plt.xlabel(\"GNP\")\n",
    "plt.ylabel(\"Employed\")"
   ]
  },
  {
   "cell_type": "markdown",
   "metadata": {},
   "source": [
    "# PARÁMETROS DE LA REGRESIÓN"
   ]
  },
  {
   "cell_type": "code",
   "execution_count": 159,
   "metadata": {},
   "outputs": [
    {
     "name": "stdout",
     "output_type": "stream",
     "text": [
      "Parámetros\n",
      "Beta0 = 51.843589781884454\n",
      "Beta1 = 0.03475229434762876\n"
     ]
    }
   ],
   "source": [
    "print(\"Parámetros\")\n",
    "print(\"Beta0 = \"+ str(beta[0]))\n",
    "print(\"Beta1 = \"+ str(beta[1]))"
   ]
  },
  {
   "cell_type": "markdown",
   "metadata": {},
   "source": [
    "# Exercise 01.3\n",
    "\n",
    "Analyze the baby names dataset using pandas"
   ]
  },
  {
   "cell_type": "code",
   "execution_count": 86,
   "metadata": {},
   "outputs": [],
   "source": [
    "import pandas as pd\n",
    "# Load dataset\n",
    "import zipfile\n",
    "with zipfile.ZipFile('../datasets/baby-names2.csv.zip', 'r') as z:\n",
    "    f = z.open('baby-names2.csv')\n",
    "    names = pd.io.parsers.read_table(f, sep=',')"
   ]
  },
  {
   "cell_type": "code",
   "execution_count": 8,
   "metadata": {},
   "outputs": [
    {
     "data": {
      "text/html": [
       "<div>\n",
       "<style>\n",
       "    .dataframe thead tr:only-child th {\n",
       "        text-align: right;\n",
       "    }\n",
       "\n",
       "    .dataframe thead th {\n",
       "        text-align: left;\n",
       "    }\n",
       "\n",
       "    .dataframe tbody tr th {\n",
       "        vertical-align: top;\n",
       "    }\n",
       "</style>\n",
       "<table border=\"1\" class=\"dataframe\">\n",
       "  <thead>\n",
       "    <tr style=\"text-align: right;\">\n",
       "      <th></th>\n",
       "      <th>year</th>\n",
       "      <th>name</th>\n",
       "      <th>prop</th>\n",
       "      <th>sex</th>\n",
       "      <th>soundex</th>\n",
       "    </tr>\n",
       "  </thead>\n",
       "  <tbody>\n",
       "    <tr>\n",
       "      <th>0</th>\n",
       "      <td>1880</td>\n",
       "      <td>John</td>\n",
       "      <td>0.081541</td>\n",
       "      <td>boy</td>\n",
       "      <td>J500</td>\n",
       "    </tr>\n",
       "    <tr>\n",
       "      <th>1</th>\n",
       "      <td>1880</td>\n",
       "      <td>William</td>\n",
       "      <td>0.080511</td>\n",
       "      <td>boy</td>\n",
       "      <td>W450</td>\n",
       "    </tr>\n",
       "    <tr>\n",
       "      <th>2</th>\n",
       "      <td>1880</td>\n",
       "      <td>James</td>\n",
       "      <td>0.050057</td>\n",
       "      <td>boy</td>\n",
       "      <td>J520</td>\n",
       "    </tr>\n",
       "    <tr>\n",
       "      <th>3</th>\n",
       "      <td>1880</td>\n",
       "      <td>Charles</td>\n",
       "      <td>0.045167</td>\n",
       "      <td>boy</td>\n",
       "      <td>C642</td>\n",
       "    </tr>\n",
       "    <tr>\n",
       "      <th>4</th>\n",
       "      <td>1880</td>\n",
       "      <td>George</td>\n",
       "      <td>0.043292</td>\n",
       "      <td>boy</td>\n",
       "      <td>G620</td>\n",
       "    </tr>\n",
       "  </tbody>\n",
       "</table>\n",
       "</div>"
      ],
      "text/plain": [
       "   year     name      prop  sex soundex\n",
       "0  1880     John  0.081541  boy    J500\n",
       "1  1880  William  0.080511  boy    W450\n",
       "2  1880    James  0.050057  boy    J520\n",
       "3  1880  Charles  0.045167  boy    C642\n",
       "4  1880   George  0.043292  boy    G620"
      ]
     },
     "execution_count": 8,
     "metadata": {},
     "output_type": "execute_result"
    }
   ],
   "source": [
    "names.head()"
   ]
  },
  {
   "cell_type": "code",
   "execution_count": 9,
   "metadata": {
    "scrolled": true
   },
   "outputs": [
    {
     "data": {
      "text/html": [
       "<div>\n",
       "<style>\n",
       "    .dataframe thead tr:only-child th {\n",
       "        text-align: right;\n",
       "    }\n",
       "\n",
       "    .dataframe thead th {\n",
       "        text-align: left;\n",
       "    }\n",
       "\n",
       "    .dataframe tbody tr th {\n",
       "        vertical-align: top;\n",
       "    }\n",
       "</style>\n",
       "<table border=\"1\" class=\"dataframe\">\n",
       "  <thead>\n",
       "    <tr style=\"text-align: right;\">\n",
       "      <th></th>\n",
       "      <th>year</th>\n",
       "      <th>name</th>\n",
       "      <th>prop</th>\n",
       "      <th>sex</th>\n",
       "      <th>soundex</th>\n",
       "    </tr>\n",
       "  </thead>\n",
       "  <tbody>\n",
       "    <tr>\n",
       "      <th>113000</th>\n",
       "      <td>1993</td>\n",
       "      <td>Michael</td>\n",
       "      <td>0.024010</td>\n",
       "      <td>boy</td>\n",
       "      <td>M240</td>\n",
       "    </tr>\n",
       "    <tr>\n",
       "      <th>113001</th>\n",
       "      <td>1993</td>\n",
       "      <td>Christopher</td>\n",
       "      <td>0.018572</td>\n",
       "      <td>boy</td>\n",
       "      <td>C623</td>\n",
       "    </tr>\n",
       "    <tr>\n",
       "      <th>113002</th>\n",
       "      <td>1993</td>\n",
       "      <td>Matthew</td>\n",
       "      <td>0.017332</td>\n",
       "      <td>boy</td>\n",
       "      <td>M300</td>\n",
       "    </tr>\n",
       "    <tr>\n",
       "      <th>113003</th>\n",
       "      <td>1993</td>\n",
       "      <td>Joshua</td>\n",
       "      <td>0.016268</td>\n",
       "      <td>boy</td>\n",
       "      <td>J200</td>\n",
       "    </tr>\n",
       "    <tr>\n",
       "      <th>113004</th>\n",
       "      <td>1993</td>\n",
       "      <td>Tyler</td>\n",
       "      <td>0.014439</td>\n",
       "      <td>boy</td>\n",
       "      <td>T460</td>\n",
       "    </tr>\n",
       "  </tbody>\n",
       "</table>\n",
       "</div>"
      ],
      "text/plain": [
       "        year         name      prop  sex soundex\n",
       "113000  1993      Michael  0.024010  boy    M240\n",
       "113001  1993  Christopher  0.018572  boy    C623\n",
       "113002  1993      Matthew  0.017332  boy    M300\n",
       "113003  1993       Joshua  0.016268  boy    J200\n",
       "113004  1993        Tyler  0.014439  boy    T460"
      ]
     },
     "execution_count": 9,
     "metadata": {},
     "output_type": "execute_result"
    }
   ],
   "source": [
    "names[names.year == 1993].head()   "
   ]
  },
  {
   "cell_type": "markdown",
   "metadata": {},
   "source": [
    "### segment the data into boy and girl names"
   ]
  },
  {
   "cell_type": "code",
   "execution_count": 11,
   "metadata": {
    "collapsed": true
   },
   "outputs": [],
   "source": [
    "boys = names[names.sex == 'boy'].copy()    \n",
    "girls = names[names.sex == 'girl'].copy()"
   ]
  },
  {
   "cell_type": "markdown",
   "metadata": {},
   "source": [
    "### Analyzing the popularity of a name over time"
   ]
  },
  {
   "cell_type": "code",
   "execution_count": 14,
   "metadata": {},
   "outputs": [
    {
     "data": {
      "image/png": "[encoded data removed]",
      "text/plain": [
       "<matplotlib.figure.Figure at 0x182cab12e80>"
      ]
     },
     "metadata": {},
     "output_type": "display_data"
    }
   ],
   "source": [
    "william = boys[boys['name']=='William']\n",
    "\n",
    "plt.plot(range(william.shape[0]), william['prop'])\n",
    "plt.xticks(range(william.shape[0])[::5], william['year'].values[::5], rotation='vertical')\n",
    "plt.ylim([0, 0.1])\n",
    "plt.show()"
   ]
  },
  {
   "cell_type": "code",
   "execution_count": 15,
   "metadata": {},
   "outputs": [
    {
     "data": {
      "image/png": "[encoded data removed]",
      "text/plain": [
       "<matplotlib.figure.Figure at 0x182caccaef0>"
      ]
     },
     "metadata": {},
     "output_type": "display_data"
    }
   ],
   "source": [
    "Daniel = boys[boys['name']=='Daniel']\n",
    "\n",
    "plt.plot(range(Daniel.shape[0]), Daniel['prop'])\n",
    "plt.xticks(range(Daniel.shape[0])[::5], Daniel['year'].values[::5], rotation='vertical')\n",
    "plt.ylim([0, 0.1])\n",
    "plt.show()"
   ]
  },
  {
   "cell_type": "markdown",
   "metadata": {},
   "source": [
    "# Exercise 01.3\n",
    "\n",
    "Which has been the most popular boy name every decade?"
   ]
  },
  {
   "cell_type": "code",
   "execution_count": 138,
   "metadata": {},
   "outputs": [
    {
     "data": {
      "text/plain": [
       "Jerry        129\n",
       "Frederick    129\n",
       "Philip       129\n",
       "David        129\n",
       "Clinton      129\n",
       "Name: name, dtype: int64"
      ]
     },
     "execution_count": 138,
     "metadata": {},
     "output_type": "execute_result"
    }
   ],
   "source": [
    "boys         = names[names.sex == 'boy'].copy()   \n",
    "most_popular = boys [\"name\"].value_counts()\n",
    "\n",
    "most_popular.head()"
   ]
  },
  {
   "cell_type": "markdown",
   "metadata": {},
   "source": [
    "# Exercise 01.4\n",
    "\n",
    "Which has been the most popular girl name?\n"
   ]
  },
  {
   "cell_type": "code",
   "execution_count": 140,
   "metadata": {},
   "outputs": [
    {
     "data": {
      "text/plain": [
       "Nina        129\n",
       "Maria       129\n",
       "Margaret    129\n",
       "Caroline    129\n",
       "Marie       129\n",
       "Name: name, dtype: int64"
      ]
     },
     "execution_count": 140,
     "metadata": {},
     "output_type": "execute_result"
    }
   ],
   "source": [
    "girls              = names[names.sex == 'girl'].copy()   \n",
    "most_popular_girls = girls [\"name\"].value_counts()\n",
    "most_popular_girls.head()\n"
   ]
  },
  {
   "cell_type": "markdown",
   "metadata": {},
   "source": [
    "# Exercise 01.5\n",
    "\n",
    "What is the most popular new girl name? (new is a name that appears only in the 2000's)"
   ]
  },
  {
   "cell_type": "code",
   "execution_count": 151,
   "metadata": {},
   "outputs": [
    {
     "name": "stdout",
     "output_type": "stream",
     "text": [
      "Ashlyn       1\n",
      "Charity      1\n",
      "Christine    1\n",
      "Kallie       1\n",
      "Odalys       1\n",
      "Name: name, dtype: int64\n"
     ]
    }
   ],
   "source": [
    "girls                      = names[names.sex == 'girl'].copy() \n",
    "new_girls                  = girls[girls['year'] == 2000]\n",
    "most_popular_new_girl_name = new_girls [\"name\"].value_counts()\n",
    "print(most_popular_new_girl_name.head())\n"
   ]
  }
 ],
 "metadata": {
  "kernelspec": {
   "display_name": "Python 3",
   "language": "python",
   "name": "python3"
  },
  "language_info": {
   "codemirror_mode": {
    "name": "ipython",
    "version": 3
   },
   "file_extension": ".py",
   "mimetype": "text/x-python",
   "name": "python",
   "nbconvert_exporter": "python",
   "pygments_lexer": "ipython3",
   "version": "3.6.5"
  }
 },
 "nbformat": 4,
 "nbformat_minor": 2
}
